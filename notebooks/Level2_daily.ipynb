{
 "cells": [
  {
   "cell_type": "code",
   "execution_count": null,
   "id": "4dd0b314-5800-4f66-b483-1249d9a9b9f3",
   "metadata": {},
   "outputs": [],
   "source": [
    "from pathlib import Path\n",
    "from seplanet.daily import Daily\n",
    "\n",
    "# plotting\n",
    "from matplotlib import pyplot as plt\n",
    "plt.rcParams['figure.figsize'] = [18, 10]\n",
    "\n",
    "# make tab completion\n",
    "%config Completer.use_jedi = False"
   ]
  },
  {
   "cell_type": "markdown",
   "id": "0fcd4f36-72fb-45ce-8805-bf60ae261953",
   "metadata": {},
   "source": [
    "# Define input parameters for initializing a class instance\n",
    "\n",
    "The main idea behind planetpy is to group all necessary functions into a class. The class is initialised by:\n",
    "- a project name that will be used for order\n",
    "- project directory (where all downloaded data will go, including inventories and so on)\n",
    "- area of interest (single geometry provided as a GIS file, GeoJSON FeatureCollection string, geometry dictionary string or WKT string)\n",
    "- start date (start of time of interest in YYYY-MM-DD format)\n",
    "- end date (end of time of interest in YYYY-MM-DD format)\n",
    "- max cloud cover (we can also filter later for more restrictive conditions)\n",
    "- constellations (python ist obect refering to sateliite/imagery types available from Planet)\n",
    "- planet API key\n",
    "\n",
    "No additional information needs"
   ]
  },
  {
   "cell_type": "code",
   "execution_count": null,
   "id": "bafc97f4-bb1c-4baf-b9fe-119284fbcef3",
   "metadata": {},
   "outputs": [],
   "source": [
    "project_name = 'field_site_skysat'  # used for order title, project folder\n",
    "\n",
    "# project directoy within home directory\n",
    "project_dir = Path.home().joinpath(project_name)\n",
    "\n",
    "# aoi example, can be geo-files (shape, gpkg, geojson), WKT string or GeoJson Strings\n",
    "aoi = {\"type\": \"Feature\",\n",
    "      \"properties\": {},\n",
    "      \"geometry\": {\n",
    "        \"type\": \"Polygon\",\n",
    "        \"coordinates\": [[[\n",
    "              36.8411922454834,\n",
    "              7.673565995637892],[\n",
    "              36.84659957885742,\n",
    "              7.673565995637892],[\n",
    "              36.84659957885742,\n",
    "              7.677734016488392],[\n",
    "              36.8411922454834,\n",
    "              7.677734016488392],[\n",
    "              36.8411922454834,\n",
    "              7.673565995637892]]]}\n",
    "      }\n",
    "\n",
    "#aoi = Path.home().joinpath('Planet/SanAntonioDePale.gpkg')\n",
    "\n",
    "# time of interest\n",
    "start_date='2020-01-01'\n",
    "end_date='2021-06-28'\n",
    "\n",
    "# cloud cover\n",
    "max_cloud_cover = 0.05\n",
    "\n",
    "# planet_key\n",
    "pkey = 'planet_key'\n",
    "\n",
    "# constellation --> always needs to be a list\n",
    "constellations=['SkySatScene'] #PSScene4Band']"
   ]
  },
  {
   "cell_type": "markdown",
   "id": "28bf695a-3188-4ffe-8acc-5bf961151928",
   "metadata": {},
   "source": [
    "# Initialize Class\n",
    "\n",
    "by initializing the class, sub directories for inventory and download data will be automatically created"
   ]
  },
  {
   "cell_type": "code",
   "execution_count": null,
   "id": "76377fdd-0d42-41c2-bddb-5cfab0dcb3bd",
   "metadata": {},
   "outputs": [],
   "source": [
    "p = Daily(\n",
    "    project_name=project_name,\n",
    "    project_dir=project_dir,\n",
    "    aoi=aoi, \n",
    "    start_date=start_date,\n",
    "    end_date=end_date,\n",
    "    planet_api_key=pkey,\n",
    "    constellations=constellations,\n",
    "    # optional\n",
    "    max_cloud_cover=max_cloud_cover, # defaults to 95\n",
    "    out_projection='EPSG:4326' # defaults to EPSG:4326 (Lat/Lon), only applies for non GEE delivery\n",
    ")"
   ]
  },
  {
   "cell_type": "markdown",
   "id": "88645e3f-6cb5-4a6b-9e09-625374e7a061",
   "metadata": {},
   "source": [
    "# Optional: set GEE delivery\n",
    "\n",
    "GEE delivery is automatically activated if you fill the class attribute *ee_image_collection* and *ee_cloud_project*."
   ]
  },
  {
   "cell_type": "code",
   "execution_count": null,
   "id": "7817db0e-2224-4976-8848-190274b289c8",
   "metadata": {},
   "outputs": [],
   "source": [
    "#p.ee_cloud_project = 'ee-username'\n",
    "#p.ee_image_collection = 'planet_image_collection'\n",
    "#\n",
    "## check if ee is connected\n",
    "#import ee\n",
    "#try:\n",
    "#    ee.Initialize()\n",
    "#    print('EE already connected, ready to go.')\n",
    "#except:\n",
    "#    ee.Authenticate()    "
   ]
  },
  {
   "cell_type": "markdown",
   "id": "16026bb5-5b34-4451-a0ea-11f786d21b46",
   "metadata": {},
   "source": [
    "# Data inventory\n",
    "\n",
    "Prepare a list of scenes by creating an inventory for the above defined parameters. The scenes are stored in a geodataframe that can be accessed through the *full_inventory* class property. Being a GeoDataFrame it can be used together with Geopandas functionality, e.g. *.head(5)* to show the first 5 results only.\n",
    "\n"
   ]
  },
  {
   "cell_type": "code",
   "execution_count": null,
   "id": "2953b9aa-75f6-4f58-b7f9-9b4aad856e4a",
   "metadata": {},
   "outputs": [],
   "source": [
    "p.create_inventory()\n",
    "print('')\n",
    "print(f' Found {len(p.full_inventory)} scenes.')\n",
    "print('')\n",
    "p.full_inventory"
   ]
  },
  {
   "cell_type": "markdown",
   "id": "e7803e16-4eb6-4ba3-8243-3e2788bd0c1d",
   "metadata": {},
   "source": [
    "# Plot inventory\n",
    "\n",
    "The full inventory can be plotted like this."
   ]
  },
  {
   "cell_type": "code",
   "execution_count": null,
   "id": "873b73ae-7780-41b0-834f-60d74feb7451",
   "metadata": {},
   "outputs": [],
   "source": [
    "p.plot_inventory(p.full_inventory, transparency=0.1)"
   ]
  },
  {
   "cell_type": "markdown",
   "id": "8a6224ac-630b-4e81-b98c-9443d3ff0af2",
   "metadata": {},
   "source": [
    "# Refine inventory\n",
    "\n",
    "The class comes with a function *refine_inventory()* with certain options to select certain scenes. Running this function will populate the *refined_inventory* property that holds a geodataframe with the refined inventory."
   ]
  },
  {
   "cell_type": "code",
   "execution_count": null,
   "id": "8aa0b2b9-7ee2-46de-9654-026031c05ae0",
   "metadata": {},
   "outputs": [],
   "source": [
    "p.refine_inventory(\n",
    "    max_cloud_cover=100, \n",
    "    scene_overlap=0, # percentage of scene overlapping with aoi (should be high for large AOIs)\n",
    "    aoi_overlap=0, # percentage aoi overlapping with the scene (should be high for small AOIs)\n",
    "    score=0, ## max score is 39, maybe something between 1-100 would be more intuitive?\n",
    "    every='1D' # this comes from Pandas Grouper. possible values: 2D --> every 2 days; W --> Week; MS --> Month Start, YS --> year start\n",
    "    # full list of options: https://pandas.pydata.org/pandas-docs/stable/user_guide/timeseries.html#offset-aliases\n",
    ")\n",
    "\n",
    "p.refined_inventory"
   ]
  },
  {
   "cell_type": "code",
   "execution_count": null,
   "id": "df777509-ebfd-462a-a3ea-a099f072c3a4",
   "metadata": {},
   "outputs": [],
   "source": [
    "p.plot_inventory(p.refined_inventory, transparency=0.2)"
   ]
  },
  {
   "cell_type": "markdown",
   "id": "c8dd7af2-88b5-4258-a205-5729651fc258",
   "metadata": {},
   "source": [
    "## Add pre-processing\n",
    "\n",
    "The Planet API allows to create some basic pre-processing steps as can be found here:\n",
    "https://developers.planet.com/docs/orders/tools-reference/\n",
    "\n",
    "**NOTE:** Apart from the clipping tool, none of the others are allowed or EE delivery"
   ]
  },
  {
   "cell_type": "code",
   "execution_count": null,
   "id": "913d9168-2a5f-489d-958e-18e1fa741331",
   "metadata": {},
   "outputs": [],
   "source": [
    "# clip to aoi\n",
    "p.tools = ['clip']\n",
    "\n",
    "### ATTENTION ###\n",
    "# THOSE TOOLS DO NOT WORK FOR GEE delivery\n",
    "\n",
    "# add NDVI band to reflectance image\n",
    "p.tools = ['add_NDVI']\n",
    "\n",
    "# get NDVI only (+ udm and meta)\n",
    "p.tools = ['NDVI_only']\n",
    "\n",
    "# co-register items to best selected image for ts analysis (\n",
    "# NOTE: this will subset your inventory to images that overlap the reference image by at least 50%)\n",
    "#p.tools = ['co-register']\n",
    "\n",
    "# combine processing options \n",
    "# (note that some are exclusive, \n",
    "# --> e.g. co-registration and composite cannot be selected at the same time\n",
    "p.tools = ['add_NDVI', 'clip']\n",
    "\n",
    "\n",
    "### NOT IMPLEMETED YET ####\n",
    "#------------------------------------------------\n",
    "\n",
    "# compose images from same platform/date\n",
    "# --> this will result in one order per composite\n",
    "#p.tools = ['composite']\n",
    "\n",
    "\n",
    "#------------------------------------------------\n",
    "\n"
   ]
  },
  {
   "cell_type": "markdown",
   "id": "1697e8f3-f3aa-4110-8a38-bf89e6277020",
   "metadata": {},
   "source": [
    "# Order and download"
   ]
  },
  {
   "cell_type": "code",
   "execution_count": null,
   "id": "f3bd1890-95a0-4516-b465-0e8623b0fa90",
   "metadata": {},
   "outputs": [],
   "source": [
    "# submit order\n",
    "p.create_order(p.refined_inventory, resubmit=True, ask=True)\n",
    "\n",
    "# print order request json\n",
    "print('')\n",
    "p.order_request"
   ]
  },
  {
   "cell_type": "code",
   "execution_count": null,
   "id": "aca06610-58ce-4d62-8b07-4f2dc2ae237d",
   "metadata": {},
   "outputs": [],
   "source": [
    "# download, or check for order status (EE)\n",
    "if not p.ee_cloud_project and not p.ee_image_collection:\n",
    "    print('Prepapring download...')\n",
    "    p.download_order()\n",
    "else:\n",
    "    p.get_order_status(every_seconds=15)"
   ]
  },
  {
   "cell_type": "code",
   "execution_count": null,
   "id": "848d94de-3f78-42d1-877a-4ac1cf1f8470",
   "metadata": {},
   "outputs": [],
   "source": [
    "p.get_order_status(every_seconds=15)"
   ]
  }
 ],
 "metadata": {
  "kernelspec": {
   "display_name": "Python 3",
   "language": "python",
   "name": "python3"
  },
  "language_info": {
   "codemirror_mode": {
    "name": "ipython",
    "version": 3
   },
   "file_extension": ".py",
   "mimetype": "text/x-python",
   "name": "python",
   "nbconvert_exporter": "python",
   "pygments_lexer": "ipython3",
   "version": "3.8.10"
  }
 },
 "nbformat": 4,
 "nbformat_minor": 5
}
