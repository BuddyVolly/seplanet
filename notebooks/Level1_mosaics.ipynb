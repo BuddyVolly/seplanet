{
 "cells": [
  {
   "cell_type": "code",
   "execution_count": null,
   "id": "666cc5c5-5fc3-477d-8655-4b40ba10edeb",
   "metadata": {},
   "outputs": [],
   "source": [
    "from pathlib import Path\n",
    "from seplanet.mosaics import Mosaics"
   ]
  },
  {
   "cell_type": "markdown",
   "id": "dbf42d0c-34e9-415b-ac68-c3b53a562040",
   "metadata": {},
   "source": [
    "### Set inputs\n",
    "\n",
    "Here we set the input, i.e. project name, aoi, start and end date \n",
    "and finally initialize a class instance"
   ]
  },
  {
   "cell_type": "code",
   "execution_count": null,
   "id": "2293f387-c18d-44b1-b583-233a41e022ff",
   "metadata": {},
   "outputs": [],
   "source": [
    "project_name = 'title'  # used for order title, project folder\n",
    "\n",
    "# project directoy within home directory\n",
    "project_dir = Path.home().joinpath(project_name)\n",
    "\n",
    "# can be any geofile, geojson string, WKT string\n",
    "aoi = Path.home().joinpath('some.gpkg')\n",
    "\n",
    "# time of interest\n",
    "start_date='2015-01-01' ## always string formatted YYYY-MM-DD format\n",
    "end_date='2021-08-28' ## always string formatted YYYY-MM-DD format\n",
    "\n",
    "# create a Mosaics class instance\n",
    "m = Mosaics(\n",
    "        project_name,\n",
    "        project_dir,\n",
    "        aoi,\n",
    "        start_date,\n",
    "        end_date,\n",
    "        nicfi_api_key=''\n",
    ")"
   ]
  },
  {
   "cell_type": "markdown",
   "id": "0176852a-55d2-4c30-9e32-47cd9eac35c2",
   "metadata": {},
   "source": [
    "### Download relevant tiles"
   ]
  },
  {
   "cell_type": "code",
   "execution_count": null,
   "id": "568106db-8738-426f-8b0d-4a1fceef25df",
   "metadata": {},
   "outputs": [],
   "source": [
    "m.get_mosaics()"
   ]
  },
  {
   "cell_type": "markdown",
   "id": "a4c5e1ef-476e-4c10-a0b8-c7c63cf41d2b",
   "metadata": {},
   "source": [
    "### Create a Sepal compliant NDVI timeseries\n",
    "\n",
    "This goes into the process folder within the project directory. "
   ]
  },
  {
   "cell_type": "code",
   "execution_count": null,
   "id": "7dd700dd-e3fb-4147-bb59-8991788eedb0",
   "metadata": {},
   "outputs": [],
   "source": [
    "m.create_ndvi_timeseries()"
   ]
  },
  {
   "cell_type": "code",
   "execution_count": null,
   "id": "70fbeba9-1690-42f8-8465-aaab4af158b9",
   "metadata": {},
   "outputs": [],
   "source": []
  }
 ],
 "metadata": {
  "kernelspec": {
   "display_name": "Python 3",
   "language": "python",
   "name": "python3"
  },
  "language_info": {
   "codemirror_mode": {
    "name": "ipython",
    "version": 3
   },
   "file_extension": ".py",
   "mimetype": "text/x-python",
   "name": "python",
   "nbconvert_exporter": "python",
   "pygments_lexer": "ipython3",
   "version": "3.6.9"
  }
 },
 "nbformat": 4,
 "nbformat_minor": 5
}
